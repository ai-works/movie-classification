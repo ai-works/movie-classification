{
 "cells": [
  {
   "cell_type": "code",
   "execution_count": 1,
   "metadata": {},
   "outputs": [],
   "source": [
    "%matplotlib notebook\n",
    "import numpy as np\n",
    "import pandas as pd\n",
    "import matplotlib.pyplot as plt\n",
    "#from sklearn.naive_bayes import GaussianNB\n",
    "from sklearn.preprocessing import OneHotEncoder\n"
   ]
  },
  {
   "cell_type": "code",
   "execution_count": 2,
   "metadata": {},
   "outputs": [
    {
     "data": {
      "text/html": [
       "<div>\n",
       "<style scoped>\n",
       "    .dataframe tbody tr th:only-of-type {\n",
       "        vertical-align: middle;\n",
       "    }\n",
       "\n",
       "    .dataframe tbody tr th {\n",
       "        vertical-align: top;\n",
       "    }\n",
       "\n",
       "    .dataframe thead th {\n",
       "        text-align: right;\n",
       "    }\n",
       "</style>\n",
       "<table border=\"1\" class=\"dataframe\">\n",
       "  <thead>\n",
       "    <tr style=\"text-align: right;\">\n",
       "      <th></th>\n",
       "      <th>label</th>\n",
       "      <th>imdbId</th>\n",
       "      <th>budget</th>\n",
       "      <th>genres</th>\n",
       "      <th>homepage</th>\n",
       "      <th>keywords</th>\n",
       "      <th>original_language</th>\n",
       "      <th>original_title</th>\n",
       "      <th>overview</th>\n",
       "      <th>popularity</th>\n",
       "      <th>...</th>\n",
       "      <th>production_countries</th>\n",
       "      <th>release_date</th>\n",
       "      <th>revenue</th>\n",
       "      <th>runtime</th>\n",
       "      <th>spoken_languages</th>\n",
       "      <th>tagline</th>\n",
       "      <th>title</th>\n",
       "      <th>tmdbId</th>\n",
       "      <th>imdb_Rating</th>\n",
       "      <th>imdb_user_count</th>\n",
       "    </tr>\n",
       "  </thead>\n",
       "  <tbody>\n",
       "    <tr>\n",
       "      <th>0</th>\n",
       "      <td>0</td>\n",
       "      <td>1980209</td>\n",
       "      <td>25000000</td>\n",
       "      <td>[{\"id\": 53, \"name\": \"Thriller\"}, {\"id\": 80, \"n...</td>\n",
       "      <td>http://www.painandgainmovie.com/</td>\n",
       "      <td>[{\"id\": 416, \"name\": \"miami\"}, {\"id\": 11454, \"...</td>\n",
       "      <td>en</td>\n",
       "      <td>Pain &amp; Gain</td>\n",
       "      <td>Daniel Lugo, manager of the Sun Gym in 1990s M...</td>\n",
       "      <td>31.893932</td>\n",
       "      <td>...</td>\n",
       "      <td>[{\"iso_3166_1\": \"US\", \"name\": \"United States o...</td>\n",
       "      <td>2013-04-18</td>\n",
       "      <td>86175291</td>\n",
       "      <td>130</td>\n",
       "      <td>[{\"iso_639_1\": \"en\", \"name\": \"English\"}]</td>\n",
       "      <td>Their American dream is bigger than yours.</td>\n",
       "      <td>Pain &amp; Gain</td>\n",
       "      <td>134374</td>\n",
       "      <td>6.4</td>\n",
       "      <td>182621</td>\n",
       "    </tr>\n",
       "    <tr>\n",
       "      <th>1</th>\n",
       "      <td>1</td>\n",
       "      <td>101507</td>\n",
       "      <td>6500000</td>\n",
       "      <td>[{\"id\": 80, \"name\": \"Crime\"}, {\"id\": 18, \"name...</td>\n",
       "      <td>NaN</td>\n",
       "      <td>[{\"id\": 542, \"name\": \"street gang\"}, {\"id\": 57...</td>\n",
       "      <td>en</td>\n",
       "      <td>Boyz n the Hood</td>\n",
       "      <td>Boyz n the Hood is the popular and successful ...</td>\n",
       "      <td>17.705671</td>\n",
       "      <td>...</td>\n",
       "      <td>[{\"iso_3166_1\": \"US\", \"name\": \"United States o...</td>\n",
       "      <td>1991-07-12</td>\n",
       "      <td>57504069</td>\n",
       "      <td>112</td>\n",
       "      <td>[{\"iso_639_1\": \"en\", \"name\": \"English\"}]</td>\n",
       "      <td>Once upon a time in South Central L.A... It ai...</td>\n",
       "      <td>Boyz n the Hood</td>\n",
       "      <td>650</td>\n",
       "      <td>7.8</td>\n",
       "      <td>108600</td>\n",
       "    </tr>\n",
       "    <tr>\n",
       "      <th>2</th>\n",
       "      <td>0</td>\n",
       "      <td>1575694</td>\n",
       "      <td>6000000</td>\n",
       "      <td>[{\"id\": 28, \"name\": \"Action\"}, {\"id\": 53, \"nam...</td>\n",
       "      <td>NaN</td>\n",
       "      <td>[]</td>\n",
       "      <td>en</td>\n",
       "      <td>The Hit List</td>\n",
       "      <td>A disgruntled man creates a hit list with a st...</td>\n",
       "      <td>4.957014</td>\n",
       "      <td>...</td>\n",
       "      <td>[{\"iso_3166_1\": \"US\", \"name\": \"United States o...</td>\n",
       "      <td>2011-04-02</td>\n",
       "      <td>0</td>\n",
       "      <td>90</td>\n",
       "      <td>[{\"iso_639_1\": \"en\", \"name\": \"English\"}]</td>\n",
       "      <td>Who's on your list?</td>\n",
       "      <td>The Hit List</td>\n",
       "      <td>58626</td>\n",
       "      <td>5.4</td>\n",
       "      <td>10947</td>\n",
       "    </tr>\n",
       "    <tr>\n",
       "      <th>3</th>\n",
       "      <td>0</td>\n",
       "      <td>422295</td>\n",
       "      <td>16800000</td>\n",
       "      <td>[{\"id\": 18, \"name\": \"Drama\"}, {\"id\": 9648, \"na...</td>\n",
       "      <td>http://www.furmovie.com/</td>\n",
       "      <td>[{\"id\": 1003, \"name\": \"photographer\"}, {\"id\": ...</td>\n",
       "      <td>en</td>\n",
       "      <td>Fur: An Imaginary Portrait of Diane Arbus</td>\n",
       "      <td>In 1958 New York Diane Arbus is a housewife an...</td>\n",
       "      <td>4.358255</td>\n",
       "      <td>...</td>\n",
       "      <td>[{\"iso_3166_1\": \"US\", \"name\": \"United States o...</td>\n",
       "      <td>2006-08-30</td>\n",
       "      <td>2281089</td>\n",
       "      <td>122</td>\n",
       "      <td>[{\"iso_639_1\": \"en\", \"name\": \"English\"}]</td>\n",
       "      <td>A love story.</td>\n",
       "      <td>Fur: An Imaginary Portrait of Diane Arbus</td>\n",
       "      <td>18615</td>\n",
       "      <td>6.5</td>\n",
       "      <td>14358</td>\n",
       "    </tr>\n",
       "    <tr>\n",
       "      <th>4</th>\n",
       "      <td>1</td>\n",
       "      <td>1135503</td>\n",
       "      <td>40000000</td>\n",
       "      <td>[{\"id\": 10749, \"name\": \"Romance\"}, {\"id\": 18, ...</td>\n",
       "      <td>http://www.julieandjulia.com/</td>\n",
       "      <td>[{\"id\": 1918, \"name\": \"cooking\"}, {\"id\": 3096,...</td>\n",
       "      <td>en</td>\n",
       "      <td>Julie &amp; Julia</td>\n",
       "      <td>Julia Child and Julie Powell â€“ both of whom ...</td>\n",
       "      <td>22.853006</td>\n",
       "      <td>...</td>\n",
       "      <td>[{\"iso_3166_1\": \"US\", \"name\": \"United States o...</td>\n",
       "      <td>2009-08-06</td>\n",
       "      <td>129540499</td>\n",
       "      <td>123</td>\n",
       "      <td>[{\"iso_639_1\": \"en\", \"name\": \"English\"}, {\"iso...</td>\n",
       "      <td>Based on Two True Stories</td>\n",
       "      <td>Julie &amp; Julia</td>\n",
       "      <td>24803</td>\n",
       "      <td>7.0</td>\n",
       "      <td>93121</td>\n",
       "    </tr>\n",
       "  </tbody>\n",
       "</table>\n",
       "<p>5 rows × 21 columns</p>\n",
       "</div>"
      ],
      "text/plain": [
       "   label   imdbId    budget  \\\n",
       "0      0  1980209  25000000   \n",
       "1      1   101507   6500000   \n",
       "2      0  1575694   6000000   \n",
       "3      0   422295  16800000   \n",
       "4      1  1135503  40000000   \n",
       "\n",
       "                                              genres  \\\n",
       "0  [{\"id\": 53, \"name\": \"Thriller\"}, {\"id\": 80, \"n...   \n",
       "1  [{\"id\": 80, \"name\": \"Crime\"}, {\"id\": 18, \"name...   \n",
       "2  [{\"id\": 28, \"name\": \"Action\"}, {\"id\": 53, \"nam...   \n",
       "3  [{\"id\": 18, \"name\": \"Drama\"}, {\"id\": 9648, \"na...   \n",
       "4  [{\"id\": 10749, \"name\": \"Romance\"}, {\"id\": 18, ...   \n",
       "\n",
       "                           homepage  \\\n",
       "0  http://www.painandgainmovie.com/   \n",
       "1                               NaN   \n",
       "2                               NaN   \n",
       "3          http://www.furmovie.com/   \n",
       "4     http://www.julieandjulia.com/   \n",
       "\n",
       "                                            keywords original_language  \\\n",
       "0  [{\"id\": 416, \"name\": \"miami\"}, {\"id\": 11454, \"...                en   \n",
       "1  [{\"id\": 542, \"name\": \"street gang\"}, {\"id\": 57...                en   \n",
       "2                                                 []                en   \n",
       "3  [{\"id\": 1003, \"name\": \"photographer\"}, {\"id\": ...                en   \n",
       "4  [{\"id\": 1918, \"name\": \"cooking\"}, {\"id\": 3096,...                en   \n",
       "\n",
       "                              original_title  \\\n",
       "0                                Pain & Gain   \n",
       "1                            Boyz n the Hood   \n",
       "2                               The Hit List   \n",
       "3  Fur: An Imaginary Portrait of Diane Arbus   \n",
       "4                              Julie & Julia   \n",
       "\n",
       "                                            overview  popularity  \\\n",
       "0  Daniel Lugo, manager of the Sun Gym in 1990s M...   31.893932   \n",
       "1  Boyz n the Hood is the popular and successful ...   17.705671   \n",
       "2  A disgruntled man creates a hit list with a st...    4.957014   \n",
       "3  In 1958 New York Diane Arbus is a housewife an...    4.358255   \n",
       "4  Julia Child and Julie Powell â€“ both of whom ...   22.853006   \n",
       "\n",
       "        ...                                      production_countries  \\\n",
       "0       ...         [{\"iso_3166_1\": \"US\", \"name\": \"United States o...   \n",
       "1       ...         [{\"iso_3166_1\": \"US\", \"name\": \"United States o...   \n",
       "2       ...         [{\"iso_3166_1\": \"US\", \"name\": \"United States o...   \n",
       "3       ...         [{\"iso_3166_1\": \"US\", \"name\": \"United States o...   \n",
       "4       ...         [{\"iso_3166_1\": \"US\", \"name\": \"United States o...   \n",
       "\n",
       "  release_date    revenue  runtime  \\\n",
       "0   2013-04-18   86175291      130   \n",
       "1   1991-07-12   57504069      112   \n",
       "2   2011-04-02          0       90   \n",
       "3   2006-08-30    2281089      122   \n",
       "4   2009-08-06  129540499      123   \n",
       "\n",
       "                                    spoken_languages  \\\n",
       "0           [{\"iso_639_1\": \"en\", \"name\": \"English\"}]   \n",
       "1           [{\"iso_639_1\": \"en\", \"name\": \"English\"}]   \n",
       "2           [{\"iso_639_1\": \"en\", \"name\": \"English\"}]   \n",
       "3           [{\"iso_639_1\": \"en\", \"name\": \"English\"}]   \n",
       "4  [{\"iso_639_1\": \"en\", \"name\": \"English\"}, {\"iso...   \n",
       "\n",
       "                                             tagline  \\\n",
       "0         Their American dream is bigger than yours.   \n",
       "1  Once upon a time in South Central L.A... It ai...   \n",
       "2                                Who's on your list?   \n",
       "3                                      A love story.   \n",
       "4                          Based on Two True Stories   \n",
       "\n",
       "                                       title  tmdbId  imdb_Rating  \\\n",
       "0                                Pain & Gain  134374          6.4   \n",
       "1                            Boyz n the Hood     650          7.8   \n",
       "2                               The Hit List   58626          5.4   \n",
       "3  Fur: An Imaginary Portrait of Diane Arbus   18615          6.5   \n",
       "4                              Julie & Julia   24803          7.0   \n",
       "\n",
       "   imdb_user_count  \n",
       "0           182621  \n",
       "1           108600  \n",
       "2            10947  \n",
       "3            14358  \n",
       "4            93121  \n",
       "\n",
       "[5 rows x 21 columns]"
      ]
     },
     "execution_count": 2,
     "metadata": {},
     "output_type": "execute_result"
    }
   ],
   "source": [
    "# Einlesen der Excel-Datei, csv war leider nicht möglich \n",
    "data_train = pd.read_excel('./Data/train_v3_seb.xlsx')\n",
    "data_train.head()"
   ]
  },
  {
   "cell_type": "code",
   "execution_count": 3,
   "metadata": {},
   "outputs": [
    {
     "name": "stderr",
     "output_type": "stream",
     "text": [
      "C:\\Users\\sebas\\Anaconda3\\lib\\site-packages\\sklearn\\preprocessing\\data.py:617: DataConversionWarning: Data with input dtype int64, float64 were all converted to float64 by StandardScaler.\n",
      "  return self.partial_fit(X, y)\n",
      "C:\\Users\\sebas\\Anaconda3\\lib\\site-packages\\sklearn\\base.py:462: DataConversionWarning: Data with input dtype int64, float64 were all converted to float64 by StandardScaler.\n",
      "  return self.fit(X, **fit_params).transform(X)\n"
     ]
    },
    {
     "data": {
      "text/plain": [
       "(1976, 4)"
      ]
     },
     "execution_count": 3,
     "metadata": {},
     "output_type": "execute_result"
    }
   ],
   "source": [
    "# Daten skalieren \n",
    "from sklearn.preprocessing import StandardScaler\n",
    "sc = StandardScaler()\n",
    "data_scaled = sc.fit_transform(data_train.loc[:,['budget','revenue','popularity','imdb_Rating']])\n",
    "data_scaled.shape"
   ]
  },
  {
   "cell_type": "code",
   "execution_count": 4,
   "metadata": {},
   "outputs": [],
   "source": [
    "# kurz in panda df transformieren \n",
    "data_scaled2 = pd.DataFrame(data_scaled)\n"
   ]
  },
  {
   "cell_type": "code",
   "execution_count": 5,
   "metadata": {},
   "outputs": [],
   "source": [
    "# Label muss wieder drann, war unnötig vorher zu stacken \n",
    "data_final3 = pd.concat([data_scaled2, data_train[['label']]], axis = 1)"
   ]
  },
  {
   "cell_type": "code",
   "execution_count": 6,
   "metadata": {},
   "outputs": [
    {
     "data": {
      "text/html": [
       "<div>\n",
       "<style scoped>\n",
       "    .dataframe tbody tr th:only-of-type {\n",
       "        vertical-align: middle;\n",
       "    }\n",
       "\n",
       "    .dataframe tbody tr th {\n",
       "        vertical-align: top;\n",
       "    }\n",
       "\n",
       "    .dataframe thead th {\n",
       "        text-align: right;\n",
       "    }\n",
       "</style>\n",
       "<table border=\"1\" class=\"dataframe\">\n",
       "  <thead>\n",
       "    <tr style=\"text-align: right;\">\n",
       "      <th></th>\n",
       "      <th>0</th>\n",
       "      <th>1</th>\n",
       "      <th>2</th>\n",
       "      <th>3</th>\n",
       "      <th>label</th>\n",
       "    </tr>\n",
       "  </thead>\n",
       "  <tbody>\n",
       "    <tr>\n",
       "      <th>0</th>\n",
       "      <td>-0.132385</td>\n",
       "      <td>-0.047085</td>\n",
       "      <td>0.227319</td>\n",
       "      <td>-0.385063</td>\n",
       "      <td>0</td>\n",
       "    </tr>\n",
       "    <tr>\n",
       "      <th>1</th>\n",
       "      <td>-0.561908</td>\n",
       "      <td>-0.203556</td>\n",
       "      <td>-0.214547</td>\n",
       "      <td>0.985018</td>\n",
       "      <td>1</td>\n",
       "    </tr>\n",
       "    <tr>\n",
       "      <th>2</th>\n",
       "      <td>-0.573516</td>\n",
       "      <td>-0.517380</td>\n",
       "      <td>-0.611578</td>\n",
       "      <td>-1.363691</td>\n",
       "      <td>0</td>\n",
       "    </tr>\n",
       "    <tr>\n",
       "      <th>3</th>\n",
       "      <td>-0.322768</td>\n",
       "      <td>-0.504931</td>\n",
       "      <td>-0.630226</td>\n",
       "      <td>-0.287200</td>\n",
       "      <td>0</td>\n",
       "    </tr>\n",
       "    <tr>\n",
       "      <th>4</th>\n",
       "      <td>0.215876</td>\n",
       "      <td>0.189577</td>\n",
       "      <td>-0.054243</td>\n",
       "      <td>0.202115</td>\n",
       "      <td>1</td>\n",
       "    </tr>\n",
       "  </tbody>\n",
       "</table>\n",
       "</div>"
      ],
      "text/plain": [
       "          0         1         2         3  label\n",
       "0 -0.132385 -0.047085  0.227319 -0.385063      0\n",
       "1 -0.561908 -0.203556 -0.214547  0.985018      1\n",
       "2 -0.573516 -0.517380 -0.611578 -1.363691      0\n",
       "3 -0.322768 -0.504931 -0.630226 -0.287200      0\n",
       "4  0.215876  0.189577 -0.054243  0.202115      1"
      ]
     },
     "execution_count": 6,
     "metadata": {},
     "output_type": "execute_result"
    }
   ],
   "source": [
    "# schauen obs skalieren funktioniert hat \n",
    "data_final3.head()"
   ]
  },
  {
   "cell_type": "code",
   "execution_count": 7,
   "metadata": {},
   "outputs": [],
   "source": [
    "X = data_final3.iloc[:,:-1]\n",
    "y = data_final3.iloc[:,-1]"
   ]
  },
  {
   "cell_type": "code",
   "execution_count": 8,
   "metadata": {},
   "outputs": [],
   "source": [
    "from sklearn.model_selection import train_test_split"
   ]
  },
  {
   "cell_type": "code",
   "execution_count": 9,
   "metadata": {},
   "outputs": [
    {
     "data": {
      "text/plain": [
       "(1185, 4)"
      ]
     },
     "execution_count": 9,
     "metadata": {},
     "output_type": "execute_result"
    }
   ],
   "source": [
    "X_train, X_test, y_train, y_test = train_test_split(X, y, test_size=0.4, random_state=0)\n",
    "X_train.shape"
   ]
  },
  {
   "cell_type": "code",
   "execution_count": 19,
   "metadata": {},
   "outputs": [
    {
     "data": {
      "text/plain": [
       "SVC(C=1.0, cache_size=200, class_weight=None, coef0=0.0,\n",
       "  decision_function_shape='ovr', degree=3, gamma=0.01, kernel='rbf',\n",
       "  max_iter=-1, probability=False, random_state=None, shrinking=True,\n",
       "  tol=0.001, verbose=False)"
      ]
     },
     "execution_count": 19,
     "metadata": {},
     "output_type": "execute_result"
    }
   ],
   "source": [
    "# 1. Versuch mit Support Vector MAchine zu klassifizieren \n",
    "from sklearn.svm import SVC\n",
    "classifier_svm = SVC(gamma=0.01)\n",
    "classifier_svm.fit(X_train, y_train)"
   ]
  },
  {
   "cell_type": "code",
   "execution_count": 20,
   "metadata": {},
   "outputs": [],
   "source": [
    "from sklearn.metrics import confusion_matrix"
   ]
  },
  {
   "cell_type": "code",
   "execution_count": 21,
   "metadata": {},
   "outputs": [],
   "source": [
    "# Jetzt die Predictions auf meinen Testdaten, die ich aus dem Traingsset habe \n",
    "y_pred_svm = classifier_svm.predict(X_test)"
   ]
  },
  {
   "cell_type": "code",
   "execution_count": 22,
   "metadata": {},
   "outputs": [
    {
     "data": {
      "text/plain": [
       "0.9127686472819216"
      ]
     },
     "execution_count": 22,
     "metadata": {},
     "output_type": "execute_result"
    }
   ],
   "source": [
    "from sklearn.metrics import accuracy_score\n",
    "ac = accuracy_score(y_test, y_pred_svm)\n",
    "ac"
   ]
  },
  {
   "cell_type": "code",
   "execution_count": 23,
   "metadata": {},
   "outputs": [
    {
     "data": {
      "text/plain": [
       "DecisionTreeClassifier(class_weight=None, criterion='entropy', max_depth=None,\n",
       "            max_features=None, max_leaf_nodes=None,\n",
       "            min_impurity_decrease=0.0, min_impurity_split=None,\n",
       "            min_samples_leaf=1, min_samples_split=2,\n",
       "            min_weight_fraction_leaf=0.0, presort=False, random_state=0,\n",
       "            splitter='best')"
      ]
     },
     "execution_count": 23,
     "metadata": {},
     "output_type": "execute_result"
    }
   ],
   "source": [
    "# 2. Versuch mit einem Entscheidungsbaum\n",
    "from sklearn.tree import DecisionTreeClassifier\n",
    "classifier_tree = DecisionTreeClassifier(criterion = 'entropy', random_state = 0)\n",
    "classifier_tree.fit(X_train, y_train)"
   ]
  },
  {
   "cell_type": "code",
   "execution_count": 24,
   "metadata": {},
   "outputs": [],
   "source": [
    "y_pred_tree = classifier_tree.predict(X_test)"
   ]
  },
  {
   "cell_type": "code",
   "execution_count": 25,
   "metadata": {},
   "outputs": [
    {
     "data": {
      "text/plain": [
       "0.8609355246523388"
      ]
     },
     "execution_count": 25,
     "metadata": {},
     "output_type": "execute_result"
    }
   ],
   "source": [
    "ac = accuracy_score(y_test, y_pred_tree)\n",
    "ac"
   ]
  },
  {
   "cell_type": "code",
   "execution_count": 26,
   "metadata": {},
   "outputs": [
    {
     "name": "stderr",
     "output_type": "stream",
     "text": [
      "C:\\Users\\sebas\\Anaconda3\\lib\\site-packages\\sklearn\\neural_network\\multilayer_perceptron.py:562: ConvergenceWarning: Stochastic Optimizer: Maximum iterations (200) reached and the optimization hasn't converged yet.\n",
      "  % self.max_iter, ConvergenceWarning)\n"
     ]
    },
    {
     "data": {
      "text/plain": [
       "MLPClassifier(activation='relu', alpha=0.0001, batch_size='auto', beta_1=0.9,\n",
       "       beta_2=0.999, early_stopping=False, epsilon=1e-08,\n",
       "       hidden_layer_sizes=(1000,), learning_rate='constant',\n",
       "       learning_rate_init=0.001, max_iter=200, momentum=0.9,\n",
       "       n_iter_no_change=10, nesterovs_momentum=True, power_t=0.5,\n",
       "       random_state=101, shuffle=True, solver='adam', tol=0.0001,\n",
       "       validation_fraction=0.1, verbose=False, warm_start=False)"
      ]
     },
     "execution_count": 26,
     "metadata": {},
     "output_type": "execute_result"
    }
   ],
   "source": [
    "# 3. Versuch mit einem Neuronalen Netz / Multi Layer Perzeptron \n",
    "# Architektur = Random :)\n",
    "from sklearn.neural_network import MLPClassifier\n",
    "classifier_nn = MLPClassifier(hidden_layer_sizes=(1000,), random_state=101)\n",
    "classifier_nn.fit(X_train, y_train)"
   ]
  },
  {
   "cell_type": "code",
   "execution_count": 27,
   "metadata": {},
   "outputs": [],
   "source": [
    "predictions_nn = classifier_nn.predict(X_test)"
   ]
  },
  {
   "cell_type": "code",
   "execution_count": 28,
   "metadata": {},
   "outputs": [
    {
     "name": "stdout",
     "output_type": "stream",
     "text": [
      "[0 0 1 1 1 0 0 1 1 0 0 0 0 0 1 1 1 1 0 0 1 1 0 0 1 0 1 1 1 1 0 0 1 0 0 1 1\n",
      " 1 1 1 0 0 0 1 0 0 0 1 0 1 1 0 0 1 0 1 1 1 1 0 0 0 1 0 0 0 0 1 1 0 0 0 1 1\n",
      " 1 1 0 1 0 0 0 1 0 0 1 0 1 1 0 1 0 0 1 0 1 0 1 1 0 1 0 1 0 1 0 0 0 1 1 0 0\n",
      " 1 1 1 1 0 0 1 0 0 1 0 1 1 0 0 1 0 0 1 0 0 1 0 0 0 0 0 1 0 1 1 0 1 0 1 0 0\n",
      " 1 0 0 1 0 1 0 1 1 1 0 1 1 0 0 0 1 0 0 0 1 0 1 1 1 0 1 1 1 1 1 1 1 0 0 1 0\n",
      " 0 0 0 1 1 0 0 0 0 1 0 1 0 1 0 1 1 0 0 0 1 0 0 0 0 0 0 1 0 0 1 0 0 1 1 0 1\n",
      " 1 1 1 0 1 1 1 1 1 1 0 0 1 1 0 1 1 0 1 1 1 1 0 1 1 0 0 1 1 0 1 1 1 1 0 1 0\n",
      " 1 0 1 1 0 0 0 1 1 0 0 0 1 1 1 0 1 1 1 0 1 1 1 0 0 0 0 1 0 1 1 1 0 0 1 1 0\n",
      " 1 0 0 0 0 1 0 0 0 0 0 1 1 1 1 1 0 1 1 1 0 0 0 0 1 1 0 1 0 1 1 1 1 0 1 1 1\n",
      " 1 1 0 1 1 1 1 1 0 0 1 1 0 1 1 0 0 0 1 1 1 1 1 0 1 1 1 0 1 1 1 1 1 0 0 1 1\n",
      " 1 0 0 0 1 1 0 1 1 0 1 0 1 1 1 1 0 0 1 1 1 1 1 0 1 0 1 0 0 0 1 0 0 1 1 1 0\n",
      " 1 1 0 0 1 0 1 0 1 1 1 0 1 0 0 1 1 0 0 0 1 1 0 1 0 0 0 0 0 1 1 0 0 0 1 1 0\n",
      " 1 1 1 0 0 1 1 0 1 0 1 1 0 1 0 1 1 1 1 0 0 0 0 1 1 1 0 1 1 1 0 1 1 0 0 0 1\n",
      " 1 1 0 0 1 0 0 0 1 0 1 0 1 0 1 0 0 0 1 0 1 0 0 0 1 0 0 0 0 1 0 0 0 0 1 0 0\n",
      " 1 1 0 0 0 1 1 1 0 0 1 0 0 0 0 1 0 1 0 0 0 1 0 0 0 0 0 0 1 0 1 0 0 0 1 1 0\n",
      " 1 1 1 0 1 1 0 1 1 0 1 1 1 0 0 0 1 0 0 1 0 1 1 1 1 0 0 0 1 0 0 1 1 0 0 0 1\n",
      " 1 1 0 1 0 1 0 1 0 1 1 1 1 0 0 1 1 0 0 0 0 1 1 0 0 1 0 1 1 1 0 1 1 1 0 1 0\n",
      " 0 0 1 0 0 0 1 0 0 1 1 0 0 1 0 0 0 1 0 0 0 0 1 0 0 0 0 0 1 0 0 1 1 1 1 0 1\n",
      " 0 1 0 1 1 1 0 0 0 0 0 0 1 0 0 0 0 1 0 1 0 1 0 1 1 1 1 0 0 0 1 0 0 1 0 1 0\n",
      " 0 0 1 0 1 0 0 1 0 0 0 1 1 1 0 0 0 1 1 0 1 1 1 1 1 0 1 1 1 1 1 0 0 0 1 1 1\n",
      " 1 0 0 1 1 1 0 0 1 1 0 0 1 0 0 1 0 1 0 1 1 0 0 0 0 1 0 0 1 0 1 1 0 1 1 0 1\n",
      " 0 1 0 0 0 0 1 0 1 0 1 0 0 1]\n"
     ]
    }
   ],
   "source": [
    "print(predictions_nn)"
   ]
  },
  {
   "cell_type": "code",
   "execution_count": 29,
   "metadata": {},
   "outputs": [
    {
     "data": {
      "text/plain": [
       "0.9026548672566371"
      ]
     },
     "execution_count": 29,
     "metadata": {},
     "output_type": "execute_result"
    }
   ],
   "source": [
    "from sklearn.metrics import accuracy_score\n",
    "ac = accuracy_score(y_test, predictions_nn)\n",
    "ac"
   ]
  },
  {
   "cell_type": "markdown",
   "metadata": {},
   "source": [
    "# Predictions aufs Testset, hierfür bräuchte ich noch die IMDB Ratings\n",
    " ## Was hier unten steht wurde auf das Testset ohne IMDB Rating rating, dementsprechend auch ohne trainiert "
   ]
  },
  {
   "cell_type": "code",
   "execution_count": 30,
   "metadata": {},
   "outputs": [],
   "source": [
    "data_submit = pd.read_csv(\"./Data/test_final.csv\")"
   ]
  },
  {
   "cell_type": "code",
   "execution_count": 31,
   "metadata": {},
   "outputs": [
    {
     "data": {
      "text/html": [
       "<div>\n",
       "<style scoped>\n",
       "    .dataframe tbody tr th:only-of-type {\n",
       "        vertical-align: middle;\n",
       "    }\n",
       "\n",
       "    .dataframe tbody tr th {\n",
       "        vertical-align: top;\n",
       "    }\n",
       "\n",
       "    .dataframe thead th {\n",
       "        text-align: right;\n",
       "    }\n",
       "</style>\n",
       "<table border=\"1\" class=\"dataframe\">\n",
       "  <thead>\n",
       "    <tr style=\"text-align: right;\">\n",
       "      <th></th>\n",
       "      <th>imdbId</th>\n",
       "      <th>budget</th>\n",
       "      <th>genres</th>\n",
       "      <th>homepage</th>\n",
       "      <th>keywords</th>\n",
       "      <th>original_language</th>\n",
       "      <th>original_title</th>\n",
       "      <th>overview</th>\n",
       "      <th>popularity</th>\n",
       "      <th>production_companies</th>\n",
       "      <th>...</th>\n",
       "      <th>release_date</th>\n",
       "      <th>revenue</th>\n",
       "      <th>runtime</th>\n",
       "      <th>spoken_languages</th>\n",
       "      <th>tagline</th>\n",
       "      <th>title</th>\n",
       "      <th>tmdbId</th>\n",
       "      <th>imdb_Rating</th>\n",
       "      <th>imdb_user_count</th>\n",
       "      <th>tmdb_Rating</th>\n",
       "    </tr>\n",
       "  </thead>\n",
       "  <tbody>\n",
       "    <tr>\n",
       "      <th>0</th>\n",
       "      <td>118615</td>\n",
       "      <td>45000000</td>\n",
       "      <td>[{\"id\": 12, \"name\": \"Adventure\"}, {\"id\": 27, \"...</td>\n",
       "      <td>NaN</td>\n",
       "      <td>[{\"id\": 5968, \"name\": \"amazon\"}, {\"id\": 10787,...</td>\n",
       "      <td>en</td>\n",
       "      <td>Anaconda</td>\n",
       "      <td>A \"National Geographic\" film crew is taken hos...</td>\n",
       "      <td>27.684779</td>\n",
       "      <td>[{\"name\": \"Columbia Pictures Corporation\", \"id...</td>\n",
       "      <td>...</td>\n",
       "      <td>11.04.1997</td>\n",
       "      <td>136885767</td>\n",
       "      <td>89</td>\n",
       "      <td>[{\"iso_639_1\": \"en\", \"name\": \"English\"}]</td>\n",
       "      <td>When You Can't Breathe You Can't Scream.</td>\n",
       "      <td>Anaconda</td>\n",
       "      <td>9360</td>\n",
       "      <td>4.7</td>\n",
       "      <td>85012</td>\n",
       "      <td>49</td>\n",
       "    </tr>\n",
       "    <tr>\n",
       "      <th>1</th>\n",
       "      <td>1990314</td>\n",
       "      <td>2500000</td>\n",
       "      <td>[{\"id\": 878, \"name\": \"Science Fiction\"}, {\"id\"...</td>\n",
       "      <td>http://robotandfrank-film.com/</td>\n",
       "      <td>[{\"id\": 6054, \"name\": \"friendship\"}, {\"id\": 14...</td>\n",
       "      <td>en</td>\n",
       "      <td>Robot &amp; Frank</td>\n",
       "      <td>A delightful dramatic comedy, a buddy picture,...</td>\n",
       "      <td>23.419061</td>\n",
       "      <td>[{\"name\": \"Samuel Goldwyn Films\", \"id\": 9118},...</td>\n",
       "      <td>...</td>\n",
       "      <td>16.08.2012</td>\n",
       "      <td>3325038</td>\n",
       "      <td>85</td>\n",
       "      <td>[{\"iso_639_1\": \"en\", \"name\": \"English\"}]</td>\n",
       "      <td>Friendship doesn't have an off switch</td>\n",
       "      <td>Robot &amp; Frank</td>\n",
       "      <td>84329</td>\n",
       "      <td>7.1</td>\n",
       "      <td>58290</td>\n",
       "      <td>69</td>\n",
       "    </tr>\n",
       "    <tr>\n",
       "      <th>2</th>\n",
       "      <td>49513</td>\n",
       "      <td>4500000</td>\n",
       "      <td>[{\"id\": 12, \"name\": \"Adventure\"}, {\"id\": 18, \"...</td>\n",
       "      <td>NaN</td>\n",
       "      <td>[{\"id\": 818, \"name\": \"based on novel\"}, {\"id\":...</td>\n",
       "      <td>en</td>\n",
       "      <td>Moby Dick</td>\n",
       "      <td>In 1841, young Ishmael signs up for service ab...</td>\n",
       "      <td>5.224593</td>\n",
       "      <td>[{\"name\": \"Warner Bros.\", \"id\": 6194}, {\"name\"...</td>\n",
       "      <td>...</td>\n",
       "      <td>27.06.1956</td>\n",
       "      <td>10400000</td>\n",
       "      <td>116</td>\n",
       "      <td>[{\"iso_639_1\": \"en\", \"name\": \"English\"}]</td>\n",
       "      <td>From the immortal adventure classic...of whali...</td>\n",
       "      <td>Moby Dick</td>\n",
       "      <td>10339</td>\n",
       "      <td>7.4</td>\n",
       "      <td>15256</td>\n",
       "      <td>69</td>\n",
       "    </tr>\n",
       "    <tr>\n",
       "      <th>3</th>\n",
       "      <td>112851</td>\n",
       "      <td>7000000</td>\n",
       "      <td>[{\"id\": 53, \"name\": \"Thriller\"}, {\"id\": 28, \"n...</td>\n",
       "      <td>NaN</td>\n",
       "      <td>[{\"id\": 75, \"name\": \"gunslinger\"}, {\"id\": 139,...</td>\n",
       "      <td>en</td>\n",
       "      <td>Desperado</td>\n",
       "      <td>A gunslinger is embroiled in a war with a loca...</td>\n",
       "      <td>25.511217</td>\n",
       "      <td>[{\"name\": \"Columbia Pictures\", \"id\": 5}, {\"nam...</td>\n",
       "      <td>...</td>\n",
       "      <td>25.08.1995</td>\n",
       "      <td>25405445</td>\n",
       "      <td>104</td>\n",
       "      <td>[{\"iso_639_1\": \"en\", \"name\": \"English\"}]</td>\n",
       "      <td>When the smoke clears, it just means he's relo...</td>\n",
       "      <td>Desperado</td>\n",
       "      <td>8068</td>\n",
       "      <td>7.2</td>\n",
       "      <td>155831</td>\n",
       "      <td>68</td>\n",
       "    </tr>\n",
       "    <tr>\n",
       "      <th>4</th>\n",
       "      <td>1077368</td>\n",
       "      <td>150000000</td>\n",
       "      <td>[{\"id\": 35, \"name\": \"Comedy\"}, {\"id\": 14, \"nam...</td>\n",
       "      <td>http://darkshadowsmovie.warnerbros.com</td>\n",
       "      <td>[{\"id\": 616, \"name\": \"witch\"}, {\"id\": 2883, \"n...</td>\n",
       "      <td>en</td>\n",
       "      <td>Dark Shadows</td>\n",
       "      <td>Vampire Barnabas Collins is inadvertently free...</td>\n",
       "      <td>50.306728</td>\n",
       "      <td>[{\"name\": \"Village Roadshow Pictures\", \"id\": 7...</td>\n",
       "      <td>...</td>\n",
       "      <td>08.05.2012</td>\n",
       "      <td>245527149</td>\n",
       "      <td>113</td>\n",
       "      <td>[{\"iso_639_1\": \"en\", \"name\": \"English\"}]</td>\n",
       "      <td>Every Family Has Its Demons</td>\n",
       "      <td>Dark Shadows</td>\n",
       "      <td>62213</td>\n",
       "      <td>6.2</td>\n",
       "      <td>224307</td>\n",
       "      <td>58</td>\n",
       "    </tr>\n",
       "  </tbody>\n",
       "</table>\n",
       "<p>5 rows × 21 columns</p>\n",
       "</div>"
      ],
      "text/plain": [
       "    imdbId     budget                                             genres  \\\n",
       "0   118615   45000000  [{\"id\": 12, \"name\": \"Adventure\"}, {\"id\": 27, \"...   \n",
       "1  1990314    2500000  [{\"id\": 878, \"name\": \"Science Fiction\"}, {\"id\"...   \n",
       "2    49513    4500000  [{\"id\": 12, \"name\": \"Adventure\"}, {\"id\": 18, \"...   \n",
       "3   112851    7000000  [{\"id\": 53, \"name\": \"Thriller\"}, {\"id\": 28, \"n...   \n",
       "4  1077368  150000000  [{\"id\": 35, \"name\": \"Comedy\"}, {\"id\": 14, \"nam...   \n",
       "\n",
       "                                 homepage  \\\n",
       "0                                     NaN   \n",
       "1          http://robotandfrank-film.com/   \n",
       "2                                     NaN   \n",
       "3                                     NaN   \n",
       "4  http://darkshadowsmovie.warnerbros.com   \n",
       "\n",
       "                                            keywords original_language  \\\n",
       "0  [{\"id\": 5968, \"name\": \"amazon\"}, {\"id\": 10787,...                en   \n",
       "1  [{\"id\": 6054, \"name\": \"friendship\"}, {\"id\": 14...                en   \n",
       "2  [{\"id\": 818, \"name\": \"based on novel\"}, {\"id\":...                en   \n",
       "3  [{\"id\": 75, \"name\": \"gunslinger\"}, {\"id\": 139,...                en   \n",
       "4  [{\"id\": 616, \"name\": \"witch\"}, {\"id\": 2883, \"n...                en   \n",
       "\n",
       "  original_title                                           overview  \\\n",
       "0       Anaconda  A \"National Geographic\" film crew is taken hos...   \n",
       "1  Robot & Frank  A delightful dramatic comedy, a buddy picture,...   \n",
       "2      Moby Dick  In 1841, young Ishmael signs up for service ab...   \n",
       "3      Desperado  A gunslinger is embroiled in a war with a loca...   \n",
       "4   Dark Shadows  Vampire Barnabas Collins is inadvertently free...   \n",
       "\n",
       "   popularity                               production_companies     ...       \\\n",
       "0   27.684779  [{\"name\": \"Columbia Pictures Corporation\", \"id...     ...        \n",
       "1   23.419061  [{\"name\": \"Samuel Goldwyn Films\", \"id\": 9118},...     ...        \n",
       "2    5.224593  [{\"name\": \"Warner Bros.\", \"id\": 6194}, {\"name\"...     ...        \n",
       "3   25.511217  [{\"name\": \"Columbia Pictures\", \"id\": 5}, {\"nam...     ...        \n",
       "4   50.306728  [{\"name\": \"Village Roadshow Pictures\", \"id\": 7...     ...        \n",
       "\n",
       "  release_date    revenue  runtime                          spoken_languages  \\\n",
       "0   11.04.1997  136885767       89  [{\"iso_639_1\": \"en\", \"name\": \"English\"}]   \n",
       "1   16.08.2012    3325038       85  [{\"iso_639_1\": \"en\", \"name\": \"English\"}]   \n",
       "2   27.06.1956   10400000      116  [{\"iso_639_1\": \"en\", \"name\": \"English\"}]   \n",
       "3   25.08.1995   25405445      104  [{\"iso_639_1\": \"en\", \"name\": \"English\"}]   \n",
       "4   08.05.2012  245527149      113  [{\"iso_639_1\": \"en\", \"name\": \"English\"}]   \n",
       "\n",
       "                                             tagline          title tmdbId  \\\n",
       "0           When You Can't Breathe You Can't Scream.       Anaconda   9360   \n",
       "1              Friendship doesn't have an off switch  Robot & Frank  84329   \n",
       "2  From the immortal adventure classic...of whali...      Moby Dick  10339   \n",
       "3  When the smoke clears, it just means he's relo...      Desperado   8068   \n",
       "4                        Every Family Has Its Demons   Dark Shadows  62213   \n",
       "\n",
       "   imdb_Rating  imdb_user_count  tmdb_Rating  \n",
       "0          4.7            85012           49  \n",
       "1          7.1            58290           69  \n",
       "2          7.4            15256           69  \n",
       "3          7.2           155831           68  \n",
       "4          6.2           224307           58  \n",
       "\n",
       "[5 rows x 21 columns]"
      ]
     },
     "execution_count": 31,
     "metadata": {},
     "output_type": "execute_result"
    }
   ],
   "source": [
    "data_submit.head()"
   ]
  },
  {
   "cell_type": "code",
   "execution_count": 33,
   "metadata": {},
   "outputs": [
    {
     "name": "stderr",
     "output_type": "stream",
     "text": [
      "C:\\Users\\sebas\\Anaconda3\\lib\\site-packages\\sklearn\\preprocessing\\data.py:617: DataConversionWarning: Data with input dtype int64, float64 were all converted to float64 by StandardScaler.\n",
      "  return self.partial_fit(X, y)\n",
      "C:\\Users\\sebas\\Anaconda3\\lib\\site-packages\\sklearn\\base.py:462: DataConversionWarning: Data with input dtype int64, float64 were all converted to float64 by StandardScaler.\n",
      "  return self.fit(X, **fit_params).transform(X)\n"
     ]
    },
    {
     "data": {
      "text/plain": [
       "(500, 4)"
      ]
     },
     "execution_count": 33,
     "metadata": {},
     "output_type": "execute_result"
    }
   ],
   "source": [
    "# Daten skalieren \n",
    "from sklearn.preprocessing import StandardScaler\n",
    "sc = StandardScaler()\n",
    "data_submit_scaled = sc.fit_transform(data_submit.loc[:,['budget','revenue','popularity','imdb_Rating']])\n",
    "data_submit_scaled.shape"
   ]
  },
  {
   "cell_type": "code",
   "execution_count": 34,
   "metadata": {},
   "outputs": [],
   "source": [
    "y_submit = classifier_svm.predict(data_submit_scaled)"
   ]
  },
  {
   "cell_type": "code",
   "execution_count": 36,
   "metadata": {},
   "outputs": [
    {
     "name": "stdout",
     "output_type": "stream",
     "text": [
      "[0 1 1 1 0 1 0 0 0 0 0 1 0 0 0 1 0 0 0 1 1 1 0 1 1 1 0 0 0 0 0 1 1 0 0 1 0\n",
      " 0 0 0 1 1 0 1 1 0 1 1 0 0 0 1 1 0 0 0 1 0 0 0 0 1 1 0 0 0 0 0 0 1 1 0 0 0\n",
      " 0 0 1 0 1 1 0 0 1 0 0 1 1 1 1 0 0 1 1 0 1 1 1 0 1 0 1 0 1 0 1 1 1 1 0 0 1\n",
      " 0 1 0 0 1 0 1 1 1 1 0 0 0 0 1 1 0 1 1 1 1 0 1 0 1 0 1 1 1 0 0 0 1 1 0 1 1\n",
      " 1 0 0 1 1 1 1 1 0 0 0 1 0 0 1 1 0 0 1 1 0 1 1 1 1 0 0 1 1 0 0 1 0 1 1 0 1\n",
      " 1 0 1 1 0 0 0 1 1 1 0 1 1 0 0 1 1 1 1 1 1 0 1 1 0 1 0 1 1 1 0 1 0 1 1 1 1\n",
      " 1 0 1 0 1 1 1 0 1 1 0 1 0 1 1 1 1 1 1 1 0 1 1 1 0 1 0 0 1 0 1 1 0 1 0 1 1\n",
      " 0 1 0 1 1 1 0 1 0 0 0 0 0 0 0 0 0 0 1 0 1 1 1 0 0 0 1 0 1 0 1 1 0 0 0 0 0\n",
      " 0 0 0 1 1 0 1 0 0 1 1 1 0 1 1 1 1 0 1 1 1 0 0 0 0 1 1 0 0 1 1 1 1 0 1 0 1\n",
      " 0 0 0 0 0 1 0 1 1 0 0 0 0 0 1 1 0 1 0 0 1 1 1 0 1 1 1 0 1 1 1 1 1 1 0 1 1\n",
      " 1 1 1 0 0 1 1 1 1 0 0 0 1 0 0 0 0 0 1 1 0 1 1 0 1 1 0 0 1 0 1 0 1 1 1 1 1\n",
      " 1 0 1 1 1 0 0 0 1 1 1 1 0 1 0 0 1 1 0 1 1 0 1 1 0 1 0 0 0 0 1 0 1 1 1 1 1\n",
      " 1 0 1 0 1 0 0 1 0 0 0 1 0 0 1 1 1 1 1 0 1 1 1 1 1 0 0 1 1 0 0 1 1 1 0 0 1\n",
      " 1 1 0 1 1 1 0 0 0 1 0 1 1 1 1 0 1 1 1]\n"
     ]
    }
   ],
   "source": [
    "print(y_submit)"
   ]
  },
  {
   "cell_type": "code",
   "execution_count": 37,
   "metadata": {},
   "outputs": [
    {
     "data": {
      "text/plain": [
       "(500,)"
      ]
     },
     "execution_count": 37,
     "metadata": {},
     "output_type": "execute_result"
    }
   ],
   "source": [
    "y_submit.shape"
   ]
  },
  {
   "cell_type": "code",
   "execution_count": null,
   "metadata": {},
   "outputs": [],
   "source": [
    "data_scaled2 = pd.DataFrame(data_scaled)"
   ]
  },
  {
   "cell_type": "code",
   "execution_count": 39,
   "metadata": {},
   "outputs": [],
   "source": [
    "y_submit = pd.DataFrame(y_submit)"
   ]
  },
  {
   "cell_type": "markdown",
   "metadata": {},
   "source": [
    "# ANN in Keras "
   ]
  },
  {
   "cell_type": "code",
   "execution_count": 82,
   "metadata": {},
   "outputs": [
    {
     "name": "stderr",
     "output_type": "stream",
     "text": [
      "C:\\Users\\sebas\\Anaconda3\\lib\\site-packages\\h5py\\__init__.py:36: FutureWarning: Conversion of the second argument of issubdtype from `float` to `np.floating` is deprecated. In future, it will be treated as `np.float64 == np.dtype(float).type`.\n",
      "  from ._conv import register_converters as _register_converters\n",
      "Using TensorFlow backend.\n"
     ]
    }
   ],
   "source": [
    "import keras\n",
    "from keras.models import Sequential\n",
    "from keras.layers import Dense\n"
   ]
  },
  {
   "cell_type": "code",
   "execution_count": 146,
   "metadata": {},
   "outputs": [
    {
     "name": "stderr",
     "output_type": "stream",
     "text": [
      "C:\\Users\\sebas\\Anaconda3\\lib\\site-packages\\ipykernel_launcher.py:5: UserWarning: Update your `Dense` call to the Keras 2 API: `Dense(activation=\"relu\", input_dim=4, units=1000, kernel_initializer=\"uniform\")`\n",
      "  \"\"\"\n",
      "C:\\Users\\sebas\\Anaconda3\\lib\\site-packages\\ipykernel_launcher.py:11: UserWarning: Update your `Dense` call to the Keras 2 API: `Dense(activation=\"sigmoid\", units=1)`\n",
      "  # This is added back by InteractiveShellApp.init_path()\n",
      "C:\\Users\\sebas\\Anaconda3\\lib\\site-packages\\ipykernel_launcher.py:17: UserWarning: The `nb_epoch` argument in `fit` has been renamed `epochs`.\n"
     ]
    },
    {
     "name": "stdout",
     "output_type": "stream",
     "text": [
      "Epoch 1/20\n",
      "1778/1778 [==============================] - 1s 463us/step - loss: 0.5286 - acc: 0.8341\n",
      "Epoch 2/20\n",
      "1778/1778 [==============================] - 0s 33us/step - loss: 0.3749 - acc: 0.8780\n",
      "Epoch 3/20\n",
      "1778/1778 [==============================] - 0s 33us/step - loss: 0.3099 - acc: 0.8864\n",
      "Epoch 4/20\n",
      "1778/1778 [==============================] - 0s 26us/step - loss: 0.2774 - acc: 0.8971\n",
      "Epoch 5/20\n",
      "1778/1778 [==============================] - 0s 29us/step - loss: 0.2625 - acc: 0.8999\n",
      "Epoch 6/20\n",
      "1778/1778 [==============================] - 0s 29us/step - loss: 0.2574 - acc: 0.8982\n",
      "Epoch 7/20\n",
      "1778/1778 [==============================] - 0s 27us/step - loss: 0.2532 - acc: 0.8976\n",
      "Epoch 8/20\n",
      "1778/1778 [==============================] - 0s 32us/step - loss: 0.2532 - acc: 0.9004\n",
      "Epoch 9/20\n",
      "1778/1778 [==============================] - 0s 32us/step - loss: 0.2508 - acc: 0.9004\n",
      "Epoch 10/20\n",
      "1778/1778 [==============================] - 0s 32us/step - loss: 0.2508 - acc: 0.9021\n",
      "Epoch 11/20\n",
      "1778/1778 [==============================] - 0s 31us/step - loss: 0.2502 - acc: 0.9010\n",
      "Epoch 12/20\n",
      "1778/1778 [==============================] - 0s 26us/step - loss: 0.2489 - acc: 0.9010\n",
      "Epoch 13/20\n",
      "1778/1778 [==============================] - 0s 26us/step - loss: 0.2490 - acc: 0.9021\n",
      "Epoch 14/20\n",
      "1778/1778 [==============================] - 0s 30us/step - loss: 0.2494 - acc: 0.9010\n",
      "Epoch 15/20\n",
      "1778/1778 [==============================] - 0s 40us/step - loss: 0.2480 - acc: 0.9010\n",
      "Epoch 16/20\n",
      "1778/1778 [==============================] - 0s 29us/step - loss: 0.2477 - acc: 0.9010\n",
      "Epoch 17/20\n",
      "1778/1778 [==============================] - 0s 27us/step - loss: 0.2477 - acc: 0.9010\n",
      "Epoch 18/20\n",
      "1778/1778 [==============================] - 0s 31us/step - loss: 0.2476 - acc: 0.9010\n",
      "Epoch 19/20\n",
      "1778/1778 [==============================] - 0s 28us/step - loss: 0.2445 - acc: 0.9033\n",
      "Epoch 20/20\n",
      "1778/1778 [==============================] - 0s 28us/step - loss: 0.2481 - acc: 0.9004\n"
     ]
    },
    {
     "data": {
      "text/plain": [
       "<keras.callbacks.History at 0x1ba6c429898>"
      ]
     },
     "execution_count": 146,
     "metadata": {},
     "output_type": "execute_result"
    }
   ],
   "source": [
    "# Initialising the ANN\n",
    "classifier = Sequential()\n",
    "\n",
    "# Adding the input layer and the first hidden layer\n",
    "classifier.add(Dense(output_dim = 1000, init = 'uniform', activation = 'relu', input_dim = 4))\n",
    "\n",
    "# Adding the second hidden layer\n",
    "#classifier.add(Dense(output_dim = 6, init = 'uniform', activation = 'relu'))\n",
    "\n",
    "# Adding the output layer\n",
    "classifier.add(Dense(output_dim = 1, activation = 'sigmoid'))\n",
    "\n",
    "# Compiling the ANN\n",
    "classifier.compile(optimizer = 'rmsprop', loss = 'binary_crossentropy', metrics = ['accuracy'])\n",
    "\n",
    "# Fitting the ANN to the Training set\n",
    "classifier.fit(X_train, y_train, batch_size = 128, verbose=1, nb_epoch = 20)"
   ]
  },
  {
   "cell_type": "code",
   "execution_count": 147,
   "metadata": {},
   "outputs": [],
   "source": [
    "# Part 3 - Making the predictions and evaluating the model\n",
    "# Predicting the Test set results\n",
    "y_pred3 = classifier.predict(X_test)"
   ]
  },
  {
   "cell_type": "code",
   "execution_count": 148,
   "metadata": {},
   "outputs": [],
   "source": [
    "# Making the Confusion Matrix\n",
    "from sklearn.metrics import confusion_matrix\n",
    "score = accuracy_score(y_test, y_pred3.round(), normalize=False) "
   ]
  },
  {
   "cell_type": "code",
   "execution_count": 149,
   "metadata": {},
   "outputs": [
    {
     "name": "stdout",
     "output_type": "stream",
     "text": [
      "181\n"
     ]
    }
   ],
   "source": [
    "print(score)"
   ]
  },
  {
   "cell_type": "code",
   "execution_count": 150,
   "metadata": {},
   "outputs": [
    {
     "data": {
      "text/plain": [
       "(198, 1)"
      ]
     },
     "execution_count": 150,
     "metadata": {},
     "output_type": "execute_result"
    }
   ],
   "source": [
    "y_pred3.shape"
   ]
  },
  {
   "cell_type": "code",
   "execution_count": 151,
   "metadata": {},
   "outputs": [
    {
     "name": "stdout",
     "output_type": "stream",
     "text": [
      "198/198 [==============================] - 0s 887us/step\n"
     ]
    }
   ],
   "source": [
    "score = classifier.evaluate(X_test, y_test, batch_size=128)"
   ]
  },
  {
   "cell_type": "code",
   "execution_count": 152,
   "metadata": {},
   "outputs": [
    {
     "name": "stdout",
     "output_type": "stream",
     "text": [
      "[0.188956865006023, 0.9141414057124745]\n"
     ]
    }
   ],
   "source": [
    "print(score)"
   ]
  },
  {
   "cell_type": "code",
   "execution_count": null,
   "metadata": {},
   "outputs": [],
   "source": []
  },
  {
   "cell_type": "code",
   "execution_count": null,
   "metadata": {},
   "outputs": [],
   "source": []
  }
 ],
 "metadata": {
  "kernelspec": {
   "display_name": "Python 3",
   "language": "python",
   "name": "python3"
  },
  "language_info": {
   "codemirror_mode": {
    "name": "ipython",
    "version": 3
   },
   "file_extension": ".py",
   "mimetype": "text/x-python",
   "name": "python",
   "nbconvert_exporter": "python",
   "pygments_lexer": "ipython3",
   "version": "3.6.5"
  }
 },
 "nbformat": 4,
 "nbformat_minor": 2
}
